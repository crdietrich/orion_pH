{
 "cells": [
  {
   "cell_type": "markdown",
   "metadata": {},
   "source": [
    "## Orion 290A+ pH Meter driver  \n",
    "Notes: Meter RS-232 connection perfers a lot of delays between operations."
   ]
  },
  {
   "cell_type": "code",
   "execution_count": 1,
   "metadata": {},
   "outputs": [],
   "source": [
    "import time"
   ]
  },
  {
   "cell_type": "code",
   "execution_count": 2,
   "metadata": {},
   "outputs": [],
   "source": [
    "from orion import Orion290A"
   ]
  },
  {
   "cell_type": "markdown",
   "metadata": {},
   "source": [
    "Set serial port on host computer"
   ]
  },
  {
   "cell_type": "code",
   "execution_count": 3,
   "metadata": {},
   "outputs": [],
   "source": [
    "port = \"COM8\"  "
   ]
  },
  {
   "cell_type": "markdown",
   "metadata": {},
   "source": [
    "Example of multiple burst data collection, just printed out.  This will take about 3 minutes."
   ]
  },
  {
   "cell_type": "code",
   "execution_count": 4,
   "metadata": {},
   "outputs": [
    {
     "name": "stdout",
     "output_type": "stream",
     "text": [
      "Sun Apr 19 10:19:18 2020 0 6.997 0.2mV 21.0C\n",
      "Sun Apr 19 10:19:33 2020 1 6.997 0.2mV 21.0C\n",
      "Sun Apr 19 10:19:48 2020 2 6.998 0.1mV 21.0C\n",
      "Sun Apr 19 10:20:03 2020 3 6.997 0.2mV 21.0C\n",
      "Sun Apr 19 10:20:19 2020 4 6.998 0.2mV 21.0C\n",
      "Sun Apr 19 10:20:34 2020 5 6.997 0.2mV 21.0C\n",
      "Sun Apr 19 10:20:49 2020 6 6.997 0.2mV 21.0C\n",
      "Sun Apr 19 10:21:04 2020 7 6.997 0.2mV 21.0C\n",
      "Sun Apr 19 10:21:19 2020 8 6.997 0.2mV 21.0C\n",
      "Sun Apr 19 10:21:35 2020 9 6.997 0.2mV 21.0C\n"
     ]
    }
   ],
   "source": [
    "p = Orion290A(serial_port=port)\n",
    "time.sleep(2)\n",
    "p.burst(n=4)\n",
    "time.sleep(2)\n",
    "p.close()"
   ]
  },
  {
   "cell_type": "markdown",
   "metadata": {},
   "source": [
    "Same example, Orion290A burst broken down and captured to variables."
   ]
  },
  {
   "cell_type": "code",
   "execution_count": 5,
   "metadata": {},
   "outputs": [
    {
     "name": "stdout",
     "output_type": "stream",
     "text": [
      "Orion 290A Login Response >>  ['rem', 'ORION Meter type 290A Logged on:', '(Enter help to view the menu)']\n",
      "Orion 290A Exit Reponse >>  ['exit', '(Meter logged off)']\n",
      "Host serial port closed.\n"
     ]
    }
   ],
   "source": [
    "p = Orion290A(serial_port=port)\n",
    "time.sleep(2)\n",
    "\n",
    "r = p.login()\n",
    "print('Orion 290A Login Response >> ', r)\n",
    "\n",
    "data = []\n",
    "for _n in range(10):\n",
    "    pr = p.print_record()  # default delay is 2s\n",
    "    pH, mV, t = p.parse_record(pr)\n",
    "    data.append([time.ctime(), _n, pH, mV, t])\n",
    "\n",
    "r = p.exit()\n",
    "print('Orion 290A Exit Reponse >> ', r)\n",
    "\n",
    "p.close()\n",
    "print(\"Host serial port closed.\")"
   ]
  },
  {
   "cell_type": "code",
   "execution_count": 6,
   "metadata": {},
   "outputs": [
    {
     "data": {
      "text/plain": [
       "[['Sun Apr 19 10:22:23 2020', 0, '6.997', '0.1mV', '21.0C'],\n",
       " ['Sun Apr 19 10:22:38 2020', 1, '6.997', '0.2mV', '21.0C'],\n",
       " ['Sun Apr 19 10:22:54 2020', 2, '6.998', '0.2mV', '21.0C'],\n",
       " ['Sun Apr 19 10:23:09 2020', 3, '6.997', '0.2mV', '21.0C'],\n",
       " ['Sun Apr 19 10:23:24 2020', 4, '6.997', '0.2mV', '21.0C'],\n",
       " ['Sun Apr 19 10:23:39 2020', 5, '6.997', '0.2mV', '21.0C'],\n",
       " ['Sun Apr 19 10:23:55 2020', 6, '6.997', '0.2mV', '21.0C'],\n",
       " ['Sun Apr 19 10:24:10 2020', 7, '6.997', '0.1mV', '21.0C'],\n",
       " ['Sun Apr 19 10:24:25 2020', 8, '6.997', '0.2mV', '21.0C'],\n",
       " ['Sun Apr 19 10:24:40 2020', 9, '6.997', '0.2mV', '21.0C']]"
      ]
     },
     "execution_count": 6,
     "metadata": {},
     "output_type": "execute_result"
    }
   ],
   "source": [
    "data"
   ]
  },
  {
   "cell_type": "code",
   "execution_count": 7,
   "metadata": {},
   "outputs": [],
   "source": [
    "p.close()  # last cell in case serial port hangs"
   ]
  },
  {
   "cell_type": "code",
   "execution_count": null,
   "metadata": {},
   "outputs": [],
   "source": []
  }
 ],
 "metadata": {
  "kernelspec": {
   "display_name": "Python 3",
   "language": "python",
   "name": "python3"
  },
  "language_info": {
   "codemirror_mode": {
    "name": "ipython",
    "version": 3
   },
   "file_extension": ".py",
   "mimetype": "text/x-python",
   "name": "python",
   "nbconvert_exporter": "python",
   "pygments_lexer": "ipython3",
   "version": "3.8.2"
  }
 },
 "nbformat": 4,
 "nbformat_minor": 4
}
